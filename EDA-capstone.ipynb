{
 "cells": [
  {
   "cell_type": "code",
   "execution_count": null,
   "id": "cb473eae",
   "metadata": {
    "scrolled": true
   },
   "outputs": [],
   "source": [
    "import configparser\n",
    "\n",
    "from datetime import datetime\n",
    "import os\n",
    "\n",
    "from pyspark.sql import SparkSession\n",
    "from pyspark.sql.functions import udf, col, monotonically_increasing_id\n",
    "from pyspark.sql.functions import year, month, dayofmonth, hour, weekofyear, date_format, dayofweek, minute, second\n",
    "from pyspark.sql.functions import split\n",
    "    \n",
    "from pyspark.sql.types import StructType, StructField\n",
    "from pyspark.sql.types import DoubleType, StringType, TimestampType\n",
    "from pyspark.sql.functions import col, when, coalesce, desc\n",
    "import functools"
   ]
  },
  {
   "cell_type": "code",
   "execution_count": null,
   "id": "d416822c",
   "metadata": {},
   "outputs": [],
   "source": [
    "AWS_ACCESS_KEY_ID = \"\""
   ]
  },
  {
   "cell_type": "code",
   "execution_count": null,
   "id": "c61072e1",
   "metadata": {},
   "outputs": [],
   "source": [
    "AWS_SECRET_ACCESS_KEY = \"\""
   ]
  },
  {
   "cell_type": "code",
   "execution_count": null,
   "id": "c9bd1dad",
   "metadata": {},
   "outputs": [],
   "source": [
    "AWS_S3_ENDPOINT = \"s3://e-commerce-sellout-data/nov/\""
   ]
  },
  {
   "cell_type": "code",
   "execution_count": null,
   "id": "b7ee10b6",
   "metadata": {},
   "outputs": [],
   "source": [
    "CSV_FORMAT = 'csv'"
   ]
  },
  {
   "cell_type": "code",
   "execution_count": null,
   "id": "15cbf142",
   "metadata": {},
   "outputs": [],
   "source": [
    "PARQUET_FORAMT = \"parquet\""
   ]
  },
  {
   "cell_type": "code",
   "execution_count": null,
   "id": "08ac04bf",
   "metadata": {},
   "outputs": [],
   "source": [
    "PRODUCT_TABLE = 'product'"
   ]
  },
  {
   "cell_type": "code",
   "execution_count": null,
   "id": "f6e865d0",
   "metadata": {},
   "outputs": [],
   "source": [
    "EVENT_TABLE = 'event'"
   ]
  },
  {
   "cell_type": "code",
   "execution_count": null,
   "id": "98f82000",
   "metadata": {},
   "outputs": [],
   "source": [
    "USER_TABLE = 'user'"
   ]
  },
  {
   "cell_type": "code",
   "execution_count": null,
   "id": "55467bd5",
   "metadata": {},
   "outputs": [],
   "source": [
    "def sparkSession():\n",
    "    spark = SparkSession\\\n",
    "            .builder\\\n",
    "            .config('spark.jars.packages','org.apache.hadoop:hadoop-aws:2.7.0')\\\n",
    "            .getOrCreate()\n",
    "    print(spark)\n",
    "    return spark"
   ]
  },
  {
   "cell_type": "code",
   "execution_count": null,
   "id": "81693dff",
   "metadata": {},
   "outputs": [],
   "source": [
    "spark = sparkSession()\n",
    "#print(spark)"
   ]
  },
  {
   "cell_type": "code",
   "execution_count": null,
   "id": "45a03731",
   "metadata": {},
   "outputs": [],
   "source": [
    "def loadData(spark, formatType ,path):\n",
    "    \"\"\"\n",
    "    function : read data from the selected storage\n",
    "    @params \n",
    "    spark: sparkSession\n",
    "    path: the selected storage\n",
    "    \"\"\" \n",
    "    print(spark, formatType, path)\n",
    "    return spark.read.format(formatType)\\\n",
    "                        .option(\"header\", 'true')\\\n",
    "                        .load(path)"
   ]
  },
  {
   "cell_type": "code",
   "execution_count": null,
   "id": "2fd20780",
   "metadata": {},
   "outputs": [],
   "source": [
    "def getColumnInformation(dataFrame, field):\n",
    "    nullValues = dataFrame.filter(col(field).isNull()).count()\n",
    "    uniqueValues = rawData.select(field).drop_duplicates().count()\n",
    "    \n",
    "    print(f\"Data check by Field : {field} : Null counts : {nullValues} , Unique Values : {uniqueValues}\")"
   ]
  },
  {
   "cell_type": "markdown",
   "id": "c1873b01",
   "metadata": {},
   "source": [
    "# 2.Explore and Assess the Data"
   ]
  },
  {
   "cell_type": "markdown",
   "id": "f9854680",
   "metadata": {},
   "source": [
    "### Purpose: To analyze the quality check and identifty missing valuse\n",
    "#### 1) Identify data size, columns\n",
    "#### 2) Null Check\n",
    "#### 3) brief information"
   ]
  },
  {
   "cell_type": "markdown",
   "id": "dc77c586",
   "metadata": {},
   "source": [
    "## Main Data"
   ]
  },
  {
   "cell_type": "markdown",
   "id": "81623ca2",
   "metadata": {},
   "source": [
    "- This is the e-commerce selling data in 2019.Nov, combining multiple categories also continuous timestamps for online transaction\n",
    "- This data is main data to create dimensional tables\n",
    "- Total rows are 67501979\n",
    "- There are null values in two columns such as brand, category_code<br>\n",
    "  brand : 9218235 nulls  \n",
    "  category_code : 21898171 nulls\n",
    "- Largest counts for unique value is event_time, over 250k<br>\n",
    "- Lowest count for unique value is event_type, only exists 3 values"
   ]
  },
  {
   "cell_type": "code",
   "execution_count": 20,
   "id": "57520073",
   "metadata": {
    "scrolled": false
   },
   "outputs": [
    {
     "data": {
      "application/vnd.jupyter.widget-view+json": {
       "model_id": "",
       "version_major": 2,
       "version_minor": 0
      },
      "text/plain": [
       "FloatProgress(value=0.0, bar_style='info', description='Progress:', layout=Layout(height='25px', width='50%'),…"
      ]
     },
     "metadata": {},
     "output_type": "display_data"
    },
    {
     "name": "stdout",
     "output_type": "stream",
     "text": [
      "<pyspark.sql.session.SparkSession object at 0x7f5daf7c81d0> csv s3://e-commerce-sellout-data/nov/"
     ]
    }
   ],
   "source": [
    "rawData = loadData(spark, CSV_FORMAT, AWS_S3_ENDPOINT)"
   ]
  },
  {
   "cell_type": "markdown",
   "id": "c0299bc8",
   "metadata": {},
   "source": [
    "### Data dictionary"
   ]
  },
  {
   "cell_type": "code",
   "execution_count": 25,
   "id": "a6fcb85d",
   "metadata": {
    "scrolled": true
   },
   "outputs": [
    {
     "data": {
      "application/vnd.jupyter.widget-view+json": {
       "model_id": "",
       "version_major": 2,
       "version_minor": 0
      },
      "text/plain": [
       "FloatProgress(value=0.0, bar_style='info', description='Progress:', layout=Layout(height='25px', width='50%'),…"
      ]
     },
     "metadata": {},
     "output_type": "display_data"
    },
    {
     "name": "stdout",
     "output_type": "stream",
     "text": [
      "Main data = Total rows 67501979 : colums 9"
     ]
    }
   ],
   "source": [
    "totalCount = rawData.count()\n",
    "colums = len(rawData.columns)\n",
    "print(f\"Main data = Total rows {totalCount} : colums {colums}\" )"
   ]
  },
  {
   "cell_type": "code",
   "execution_count": 41,
   "id": "355dfe2a",
   "metadata": {
    "scrolled": true
   },
   "outputs": [
    {
     "data": {
      "application/vnd.jupyter.widget-view+json": {
       "model_id": "",
       "version_major": 2,
       "version_minor": 0
      },
      "text/plain": [
       "FloatProgress(value=0.0, bar_style='info', description='Progress:', layout=Layout(height='25px', width='50%'),…"
      ]
     },
     "metadata": {},
     "output_type": "display_data"
    },
    {
     "name": "stdout",
     "output_type": "stream",
     "text": [
      "root\n",
      " |-- event_time: string (nullable = true)\n",
      " |-- event_type: string (nullable = true)\n",
      " |-- product_id: string (nullable = true)\n",
      " |-- category_id: string (nullable = true)\n",
      " |-- category_code: string (nullable = true)\n",
      " |-- brand: string (nullable = true)\n",
      " |-- price: string (nullable = true)\n",
      " |-- user_id: string (nullable = true)\n",
      " |-- user_session: string (nullable = true)"
     ]
    }
   ],
   "source": [
    "rawData.printSchema()"
   ]
  },
  {
   "cell_type": "code",
   "execution_count": 31,
   "id": "bcbe226c",
   "metadata": {},
   "outputs": [
    {
     "name": "stderr",
     "output_type": "stream",
     "text": [
      "An error was encountered:\n",
      "Error sending http request and maximum retry encountered.\n"
     ]
    }
   ],
   "source": [
    "rawData.show(10)"
   ]
  },
  {
   "cell_type": "markdown",
   "id": "7f74c823",
   "metadata": {},
   "source": [
    "### Column : event_type "
   ]
  },
  {
   "cell_type": "code",
   "execution_count": 65,
   "id": "d2b347b1",
   "metadata": {},
   "outputs": [
    {
     "data": {
      "application/vnd.jupyter.widget-view+json": {
       "model_id": "",
       "version_major": 2,
       "version_minor": 0
      },
      "text/plain": [
       "FloatProgress(value=0.0, bar_style='info', description='Progress:', layout=Layout(height='25px', width='50%'),…"
      ]
     },
     "metadata": {},
     "output_type": "display_data"
    },
    {
     "name": "stdout",
     "output_type": "stream",
     "text": [
      "Data check by Field : event_time : Null counts : 0 , Unique Values : 2549559"
     ]
    }
   ],
   "source": [
    "getColumnInformation(rawData ,'event_time')"
   ]
  },
  {
   "cell_type": "markdown",
   "id": "a9098390",
   "metadata": {},
   "source": [
    "### Column : event_type"
   ]
  },
  {
   "cell_type": "code",
   "execution_count": 66,
   "id": "b6435073",
   "metadata": {
    "scrolled": true
   },
   "outputs": [
    {
     "data": {
      "application/vnd.jupyter.widget-view+json": {
       "model_id": "",
       "version_major": 2,
       "version_minor": 0
      },
      "text/plain": [
       "FloatProgress(value=0.0, bar_style='info', description='Progress:', layout=Layout(height='25px', width='50%'),…"
      ]
     },
     "metadata": {},
     "output_type": "display_data"
    },
    {
     "name": "stdout",
     "output_type": "stream",
     "text": [
      "Data check by Field : event_type : Null counts : 0 , Unique Values : 3"
     ]
    }
   ],
   "source": [
    "getColumnInformation(rawData ,'event_type')"
   ]
  },
  {
   "cell_type": "markdown",
   "id": "d5623205",
   "metadata": {},
   "source": [
    "### Column : product_id"
   ]
  },
  {
   "cell_type": "code",
   "execution_count": 67,
   "id": "afa512e1",
   "metadata": {},
   "outputs": [
    {
     "data": {
      "application/vnd.jupyter.widget-view+json": {
       "model_id": "",
       "version_major": 2,
       "version_minor": 0
      },
      "text/plain": [
       "FloatProgress(value=0.0, bar_style='info', description='Progress:', layout=Layout(height='25px', width='50%'),…"
      ]
     },
     "metadata": {},
     "output_type": "display_data"
    },
    {
     "name": "stdout",
     "output_type": "stream",
     "text": [
      "Data check by Field : product_id : Null counts : 0 , Unique Values : 190662"
     ]
    }
   ],
   "source": [
    "getColumnInformation(rawData ,'product_id')"
   ]
  },
  {
   "cell_type": "markdown",
   "id": "1f8af7ea",
   "metadata": {},
   "source": [
    "### Column : category_id"
   ]
  },
  {
   "cell_type": "code",
   "execution_count": 68,
   "id": "b38c269a",
   "metadata": {},
   "outputs": [
    {
     "data": {
      "application/vnd.jupyter.widget-view+json": {
       "model_id": "",
       "version_major": 2,
       "version_minor": 0
      },
      "text/plain": [
       "FloatProgress(value=0.0, bar_style='info', description='Progress:', layout=Layout(height='25px', width='50%'),…"
      ]
     },
     "metadata": {},
     "output_type": "display_data"
    },
    {
     "name": "stdout",
     "output_type": "stream",
     "text": [
      "Data check by Field : category_id : Null counts : 0 , Unique Values : 684"
     ]
    }
   ],
   "source": [
    "getColumnInformation(rawData ,'category_id')"
   ]
  },
  {
   "cell_type": "markdown",
   "id": "b4add394",
   "metadata": {},
   "source": [
    "### Column : category_code"
   ]
  },
  {
   "cell_type": "code",
   "execution_count": 69,
   "id": "ad7ca08a",
   "metadata": {},
   "outputs": [
    {
     "data": {
      "application/vnd.jupyter.widget-view+json": {
       "model_id": "",
       "version_major": 2,
       "version_minor": 0
      },
      "text/plain": [
       "FloatProgress(value=0.0, bar_style='info', description='Progress:', layout=Layout(height='25px', width='50%'),…"
      ]
     },
     "metadata": {},
     "output_type": "display_data"
    },
    {
     "name": "stdout",
     "output_type": "stream",
     "text": [
      "Data check by Field : category_code : Null counts : 21898171 , Unique Values : 130"
     ]
    }
   ],
   "source": [
    "getColumnInformation(rawData ,'category_code')"
   ]
  },
  {
   "cell_type": "markdown",
   "id": "81e9036c",
   "metadata": {},
   "source": [
    "### Column : brand"
   ]
  },
  {
   "cell_type": "code",
   "execution_count": 71,
   "id": "de3d643d",
   "metadata": {},
   "outputs": [
    {
     "data": {
      "application/vnd.jupyter.widget-view+json": {
       "model_id": "",
       "version_major": 2,
       "version_minor": 0
      },
      "text/plain": [
       "FloatProgress(value=0.0, bar_style='info', description='Progress:', layout=Layout(height='25px', width='50%'),…"
      ]
     },
     "metadata": {},
     "output_type": "display_data"
    },
    {
     "name": "stdout",
     "output_type": "stream",
     "text": [
      "Data check by Field : brand : Null counts : 9218235 , Unique Values : 4202"
     ]
    }
   ],
   "source": [
    "getColumnInformation(rawData ,'brand')"
   ]
  },
  {
   "cell_type": "markdown",
   "id": "8e9f099d",
   "metadata": {},
   "source": [
    "### Column : price"
   ]
  },
  {
   "cell_type": "code",
   "execution_count": 72,
   "id": "fe4f3c85",
   "metadata": {},
   "outputs": [
    {
     "data": {
      "application/vnd.jupyter.widget-view+json": {
       "model_id": "",
       "version_major": 2,
       "version_minor": 0
      },
      "text/plain": [
       "FloatProgress(value=0.0, bar_style='info', description='Progress:', layout=Layout(height='25px', width='50%'),…"
      ]
     },
     "metadata": {},
     "output_type": "display_data"
    },
    {
     "name": "stdout",
     "output_type": "stream",
     "text": [
      "Data check by Field : price : Null counts : 0 , Unique Values : 60435"
     ]
    }
   ],
   "source": [
    "getColumnInformation(rawData ,'price')"
   ]
  },
  {
   "cell_type": "markdown",
   "id": "82ad32f3",
   "metadata": {},
   "source": [
    "### Column : user_id"
   ]
  },
  {
   "cell_type": "code",
   "execution_count": 73,
   "id": "95616696",
   "metadata": {
    "scrolled": true
   },
   "outputs": [
    {
     "data": {
      "application/vnd.jupyter.widget-view+json": {
       "model_id": "",
       "version_major": 2,
       "version_minor": 0
      },
      "text/plain": [
       "FloatProgress(value=0.0, bar_style='info', description='Progress:', layout=Layout(height='25px', width='50%'),…"
      ]
     },
     "metadata": {},
     "output_type": "display_data"
    },
    {
     "name": "stdout",
     "output_type": "stream",
     "text": [
      "Data check by Field : user_id : Null counts : 0 , Unique Values : 3696117"
     ]
    }
   ],
   "source": [
    "getColumnInformation(rawData ,'user_id')"
   ]
  },
  {
   "cell_type": "markdown",
   "id": "0b6a6505",
   "metadata": {},
   "source": [
    "### Column : user_session"
   ]
  },
  {
   "cell_type": "code",
   "execution_count": 74,
   "id": "a2f5175a",
   "metadata": {},
   "outputs": [
    {
     "data": {
      "application/vnd.jupyter.widget-view+json": {
       "model_id": "",
       "version_major": 2,
       "version_minor": 0
      },
      "text/plain": [
       "FloatProgress(value=0.0, bar_style='info', description='Progress:', layout=Layout(height='25px', width='50%'),…"
      ]
     },
     "metadata": {},
     "output_type": "display_data"
    },
    {
     "name": "stdout",
     "output_type": "stream",
     "text": [
      "Data check by Field : user_session : Null counts : 10 , Unique Values : 13776051"
     ]
    }
   ],
   "source": [
    "getColumnInformation(rawData ,'user_session')"
   ]
  },
  {
   "cell_type": "markdown",
   "id": "d62f075d",
   "metadata": {},
   "source": [
    "## Product Data"
   ]
  },
  {
   "cell_type": "markdown",
   "id": "797c8255",
   "metadata": {},
   "source": [
    "- This is a product dimensional table derivated from main data<br>\n",
    "- ETL : fill null values when creating diemesonal table <br> \n",
    "  : default brand value is 'brand'  \n",
    "  : default category_code value is 'category1.category2.category3'\n",
    "- This tabble is included with category code field in detail and also brand<br>\n",
    "  - Electric items are mainly taken up in product data"
   ]
  },
  {
   "cell_type": "code",
   "execution_count": 26,
   "id": "36b59131",
   "metadata": {},
   "outputs": [
    {
     "data": {
      "application/vnd.jupyter.widget-view+json": {
       "model_id": "",
       "version_major": 2,
       "version_minor": 0
      },
      "text/plain": [
       "FloatProgress(value=0.0, bar_style='info', description='Progress:', layout=Layout(height='25px', width='50%'),…"
      ]
     },
     "metadata": {},
     "output_type": "display_data"
    },
    {
     "name": "stdout",
     "output_type": "stream",
     "text": [
      "<pyspark.sql.session.SparkSession object at 0x7f5daf7c81d0> parquet s3://e-commerce-sellout-data/nov/product"
     ]
    }
   ],
   "source": [
    "productPath = AWS_S3_ENDPOINT + PRODUCT_TABLE\n",
    " \n",
    "productData = loadData(spark, PARQUET_FORAMT, productPath)"
   ]
  },
  {
   "cell_type": "markdown",
   "id": "abc40482",
   "metadata": {},
   "source": [
    "#### Data dictionarty"
   ]
  },
  {
   "cell_type": "code",
   "execution_count": 27,
   "id": "fa56c049",
   "metadata": {},
   "outputs": [
    {
     "data": {
      "application/vnd.jupyter.widget-view+json": {
       "model_id": "",
       "version_major": 2,
       "version_minor": 0
      },
      "text/plain": [
       "FloatProgress(value=0.0, bar_style='info', description='Progress:', layout=Layout(height='25px', width='50%'),…"
      ]
     },
     "metadata": {},
     "output_type": "display_data"
    },
    {
     "name": "stdout",
     "output_type": "stream",
     "text": [
      "Product data = Total rows 379314 : colums 5"
     ]
    }
   ],
   "source": [
    "totalCount = productData.count()\n",
    "colums = len(productData.columns)\n",
    "print(f\"Product data = Total rows {totalCount} : colums {colums}\" )"
   ]
  },
  {
   "cell_type": "code",
   "execution_count": 25,
   "id": "478567ed",
   "metadata": {},
   "outputs": [
    {
     "data": {
      "application/vnd.jupyter.widget-view+json": {
       "model_id": "",
       "version_major": 2,
       "version_minor": 0
      },
      "text/plain": [
       "FloatProgress(value=0.0, bar_style='info', description='Progress:', layout=Layout(height='25px', width='50%'),…"
      ]
     },
     "metadata": {},
     "output_type": "display_data"
    },
    {
     "name": "stdout",
     "output_type": "stream",
     "text": [
      "root\n",
      " |-- product_id: string (nullable = true)\n",
      " |-- category_id: string (nullable = true)\n",
      " |-- category_code: string (nullable = true)\n",
      " |-- brand: string (nullable = true)\n",
      " |-- price: double (nullable = true)"
     ]
    }
   ],
   "source": [
    "productData.printSchema()"
   ]
  },
  {
   "cell_type": "markdown",
   "id": "bcdeca7a",
   "metadata": {},
   "source": [
    "#### Information"
   ]
  },
  {
   "cell_type": "code",
   "execution_count": 33,
   "id": "db3d9f87",
   "metadata": {},
   "outputs": [
    {
     "data": {
      "application/vnd.jupyter.widget-view+json": {
       "model_id": "",
       "version_major": 2,
       "version_minor": 0
      },
      "text/plain": [
       "FloatProgress(value=0.0, bar_style='info', description='Progress:', layout=Layout(height='25px', width='50%'),…"
      ]
     },
     "metadata": {},
     "output_type": "display_data"
    }
   ],
   "source": [
    "brandRank = productData.filter(col('brand') != 'none')\\\n",
    ".groupby('brand').count() "
   ]
  },
  {
   "cell_type": "code",
   "execution_count": 34,
   "id": "51e76800",
   "metadata": {},
   "outputs": [
    {
     "data": {
      "application/vnd.jupyter.widget-view+json": {
       "model_id": "",
       "version_major": 2,
       "version_minor": 0
      },
      "text/plain": [
       "FloatProgress(value=0.0, bar_style='info', description='Progress:', layout=Layout(height='25px', width='50%'),…"
      ]
     },
     "metadata": {},
     "output_type": "display_data"
    },
    {
     "name": "stdout",
     "output_type": "stream",
     "text": [
      "+---------+-----+\n",
      "|    brand|count|\n",
      "+---------+-----+\n",
      "|  samsung| 6676|\n",
      "|   xiaomi| 5697|\n",
      "|    bosch| 5310|\n",
      "|    apple| 4785|\n",
      "|       hp| 3831|\n",
      "|   makita| 3545|\n",
      "|     sony| 3357|\n",
      "|   febest| 2912|\n",
      "|   gipfel| 2551|\n",
      "|     asus| 2507|\n",
      "|       lg| 2448|\n",
      "|    casio| 2374|\n",
      "|  sokolov| 2310|\n",
      "|     smeg| 2201|\n",
      "|  respect| 2135|\n",
      "|milavitsa| 2095|\n",
      "|  polaris| 2077|\n",
      "|    canon| 2054|\n",
      "|     lego| 1866|\n",
      "|  philips| 1802|\n",
      "+---------+-----+\n",
      "only showing top 20 rows"
     ]
    }
   ],
   "source": [
    "brandRank.sort( desc('count') ).show()"
   ]
  },
  {
   "cell_type": "code",
   "execution_count": 47,
   "id": "17db4d62",
   "metadata": {},
   "outputs": [
    {
     "data": {
      "application/vnd.jupyter.widget-view+json": {
       "model_id": "",
       "version_major": 2,
       "version_minor": 0
      },
      "text/plain": [
       "FloatProgress(value=0.0, bar_style='info', description='Progress:', layout=Layout(height='25px', width='50%'),…"
      ]
     },
     "metadata": {},
     "output_type": "display_data"
    }
   ],
   "source": [
    "codeRank = productData.filter(col(\"category_code\") != 'category1.category2.category3')\\\n",
    ".groupby('category_code').count()"
   ]
  },
  {
   "cell_type": "code",
   "execution_count": 48,
   "id": "f90e755c",
   "metadata": {},
   "outputs": [
    {
     "data": {
      "application/vnd.jupyter.widget-view+json": {
       "model_id": "",
       "version_major": 2,
       "version_minor": 0
      },
      "text/plain": [
       "FloatProgress(value=0.0, bar_style='info', description='Progress:', layout=Layout(height='25px', width='50%'),…"
      ]
     },
     "metadata": {},
     "output_type": "display_data"
    },
    {
     "name": "stdout",
     "output_type": "stream",
     "text": [
      "+--------------------------------+-----+\n",
      "|category_code                   |count|\n",
      "+--------------------------------+-----+\n",
      "|electronics.smartphone          |12277|\n",
      "|electronics.clocks              |11870|\n",
      "|apparel.shoes                   |9556 |\n",
      "|electronics.audio.headphone     |6499 |\n",
      "|appliances.kitchen.refrigerators|5697 |\n",
      "|construction.components.faucet  |5510 |\n",
      "|construction.tools.drill        |5305 |\n",
      "|kids.carriage                   |4568 |\n",
      "|accessories.bag                 |3908 |\n",
      "|appliances.kitchen.hood         |3889 |\n",
      "|computers.notebook              |3636 |\n",
      "|appliances.kitchen.hob          |3551 |\n",
      "|kids.toys                       |3472 |\n",
      "|computers.peripherals.mouse     |3267 |\n",
      "|computers.desktop               |3036 |\n",
      "|appliances.kitchen.oven         |2967 |\n",
      "|appliances.environment.vacuum   |2822 |\n",
      "|apparel.shoes.keds              |2768 |\n",
      "|electronics.video.tv            |2668 |\n",
      "|computers.peripherals.monitor   |2663 |\n",
      "+--------------------------------+-----+\n",
      "only showing top 20 rows"
     ]
    }
   ],
   "source": [
    "codeRank.sort( desc('count') ).show(truncate=False)"
   ]
  },
  {
   "cell_type": "markdown",
   "id": "5e90e8b7",
   "metadata": {},
   "source": [
    "## Event Data"
   ]
  },
  {
   "cell_type": "markdown",
   "id": "5a5aa597",
   "metadata": {},
   "source": [
    "- This is a product dimensional table derivated from main data<br>\n",
    "- There are two columns to track selling pattern<br>\n",
    "    - event_time: there is time stamp value and able to split by time unit<br>\n",
    "    - event_type: there 3 types : view, purchase, cart<br>\n",
    "        purchase is the ture purchase transaction<br>\n",
    "    \n",
    "- This tabble is included with category code field in detail and also brand<br>\n",
    "  "
   ]
  },
  {
   "cell_type": "code",
   "execution_count": 28,
   "id": "6a2b22ba",
   "metadata": {},
   "outputs": [
    {
     "data": {
      "application/vnd.jupyter.widget-view+json": {
       "model_id": "",
       "version_major": 2,
       "version_minor": 0
      },
      "text/plain": [
       "FloatProgress(value=0.0, bar_style='info', description='Progress:', layout=Layout(height='25px', width='50%'),…"
      ]
     },
     "metadata": {},
     "output_type": "display_data"
    },
    {
     "name": "stdout",
     "output_type": "stream",
     "text": [
      "<pyspark.sql.session.SparkSession object at 0x7f5daf7c81d0> parquet s3://e-commerce-sellout-data/nov/event"
     ]
    }
   ],
   "source": [
    "eventPath = AWS_S3_ENDPOINT + EVENT_TABLE\n",
    " \n",
    "eventData = loadData(spark, PARQUET_FORAMT, eventPath)"
   ]
  },
  {
   "cell_type": "markdown",
   "id": "ae90783c",
   "metadata": {},
   "source": [
    "#### Data dictionary"
   ]
  },
  {
   "cell_type": "code",
   "execution_count": 29,
   "id": "7c6123ba",
   "metadata": {},
   "outputs": [
    {
     "data": {
      "application/vnd.jupyter.widget-view+json": {
       "model_id": "",
       "version_major": 2,
       "version_minor": 0
      },
      "text/plain": [
       "FloatProgress(value=0.0, bar_style='info', description='Progress:', layout=Layout(height='25px', width='50%'),…"
      ]
     },
     "metadata": {},
     "output_type": "display_data"
    },
    {
     "name": "stdout",
     "output_type": "stream",
     "text": [
      "Event data = Total rows 67401449 : colums 4"
     ]
    }
   ],
   "source": [
    "totalCount = eventData.count()\n",
    "colums = len(eventData.columns)\n",
    "print(f\"Event data = Total rows {totalCount} : colums {colums}\" )"
   ]
  },
  {
   "cell_type": "code",
   "execution_count": 52,
   "id": "d204f315",
   "metadata": {
    "scrolled": true
   },
   "outputs": [
    {
     "data": {
      "application/vnd.jupyter.widget-view+json": {
       "model_id": "",
       "version_major": 2,
       "version_minor": 0
      },
      "text/plain": [
       "FloatProgress(value=0.0, bar_style='info', description='Progress:', layout=Layout(height='25px', width='50%'),…"
      ]
     },
     "metadata": {},
     "output_type": "display_data"
    },
    {
     "name": "stdout",
     "output_type": "stream",
     "text": [
      "root\n",
      " |-- event_time: string (nullable = true)\n",
      " |-- event_type: string (nullable = true)\n",
      " |-- product_id: string (nullable = true)\n",
      " |-- user_session: string (nullable = true)"
     ]
    }
   ],
   "source": [
    "eventData.printSchema()"
   ]
  },
  {
   "cell_type": "markdown",
   "id": "537c5c67",
   "metadata": {},
   "source": [
    "#### Information"
   ]
  },
  {
   "cell_type": "code",
   "execution_count": 53,
   "id": "e13b1180",
   "metadata": {},
   "outputs": [
    {
     "data": {
      "application/vnd.jupyter.widget-view+json": {
       "model_id": "",
       "version_major": 2,
       "version_minor": 0
      },
      "text/plain": [
       "FloatProgress(value=0.0, bar_style='info', description='Progress:', layout=Layout(height='25px', width='50%'),…"
      ]
     },
     "metadata": {},
     "output_type": "display_data"
    }
   ],
   "source": [
    "timeUnit = eventData.withColumn(\"yyyyMmDd\", split(col(\"event_time\"),' ').getItem(0))\\\n",
    "                        .withColumn(\"year\", year(\"yyyyMmDd\"))\\\n",
    "                        .withColumn(\"month\", month(\"yyyyMmDd\"))\\\n",
    "                        .withColumn(\"day\", dayofmonth(\"yyyyMmDd\"))\\\n",
    "                        .select('event_time', 'year', 'month','day'\n",
    "                                ,'event_type','product_id','user_session')"
   ]
  },
  {
   "cell_type": "code",
   "execution_count": 55,
   "id": "4a97ecda",
   "metadata": {},
   "outputs": [
    {
     "data": {
      "application/vnd.jupyter.widget-view+json": {
       "model_id": "",
       "version_major": 2,
       "version_minor": 0
      },
      "text/plain": [
       "FloatProgress(value=0.0, bar_style='info', description='Progress:', layout=Layout(height='25px', width='50%'),…"
      ]
     },
     "metadata": {},
     "output_type": "display_data"
    },
    {
     "name": "stdout",
     "output_type": "stream",
     "text": [
      "+----+-----+---+-------+\n",
      "|year|month|day|count  |\n",
      "+----+-----+---+-------+\n",
      "|2019|11   |16 |6488921|\n",
      "|2019|11   |17 |6379913|\n",
      "|2019|11   |15 |6205340|\n",
      "|2019|11   |14 |3064736|\n",
      "|2019|11   |18 |2018957|\n",
      "|2019|11   |13 |2016711|\n",
      "|2019|11   |11 |2006897|\n",
      "|2019|11   |12 |1985382|\n",
      "|2019|11   |10 |1938354|\n",
      "|2019|11   |8  |1893950|\n",
      "|2019|11   |9  |1875586|\n",
      "|2019|11   |29 |1850824|\n",
      "|2019|11   |7  |1796237|\n",
      "|2019|11   |4  |1792508|\n",
      "|2019|11   |30 |1752607|\n",
      "|2019|11   |19 |1726197|\n",
      "|2019|11   |5  |1716759|\n",
      "|2019|11   |20 |1697436|\n",
      "|2019|11   |6  |1694224|\n",
      "|2019|11   |21 |1674077|\n",
      "+----+-----+---+-------+\n",
      "only showing top 20 rows"
     ]
    }
   ],
   "source": [
    "timeUnit.groupby('year', 'month','day').count().\\\n",
    "sort(desc('count')).show(truncate=False)"
   ]
  },
  {
   "cell_type": "code",
   "execution_count": 57,
   "id": "453c3841",
   "metadata": {},
   "outputs": [
    {
     "data": {
      "application/vnd.jupyter.widget-view+json": {
       "model_id": "",
       "version_major": 2,
       "version_minor": 0
      },
      "text/plain": [
       "FloatProgress(value=0.0, bar_style='info', description='Progress:', layout=Layout(height='25px', width='50%'),…"
      ]
     },
     "metadata": {},
     "output_type": "display_data"
    }
   ],
   "source": [
    "eventTypes = timeUnit.select('event_type').groupBy('event_type').count().sort(desc('event_type'))"
   ]
  },
  {
   "cell_type": "code",
   "execution_count": 58,
   "id": "d21f62cd",
   "metadata": {},
   "outputs": [
    {
     "data": {
      "application/vnd.jupyter.widget-view+json": {
       "model_id": "",
       "version_major": 2,
       "version_minor": 0
      },
      "text/plain": [
       "FloatProgress(value=0.0, bar_style='info', description='Progress:', layout=Layout(height='25px', width='50%'),…"
      ]
     },
     "metadata": {},
     "output_type": "display_data"
    },
    {
     "name": "stdout",
     "output_type": "stream",
     "text": [
      "+----------+--------+\n",
      "|event_type|   count|\n",
      "+----------+--------+\n",
      "|      view|63554512|\n",
      "|  purchase|  916930|\n",
      "|      cart| 2930007|\n",
      "+----------+--------+"
     ]
    }
   ],
   "source": [
    "eventTypes.show()"
   ]
  },
  {
   "cell_type": "markdown",
   "id": "3b749a77",
   "metadata": {},
   "source": [
    "## User Data"
   ]
  },
  {
   "cell_type": "markdown",
   "id": "fe18003f",
   "metadata": {},
   "source": [
    "- This is a user dimensional table derivated from main data<br>\n",
    "- There are only two columns\n"
   ]
  },
  {
   "cell_type": "code",
   "execution_count": 32,
   "id": "57197337",
   "metadata": {},
   "outputs": [
    {
     "name": "stderr",
     "output_type": "stream",
     "text": [
      "An error was encountered:\n",
      "Error sending http request and maximum retry encountered.\n"
     ]
    }
   ],
   "source": [
    "userPath = AWS_S3_ENDPOINT + USER_TABLE\n",
    " \n",
    "userData = loadData(spark, PARQUET_FORAMT, userPath)"
   ]
  },
  {
   "cell_type": "code",
   "execution_count": null,
   "id": "fd18063d",
   "metadata": {},
   "outputs": [],
   "source": []
  },
  {
   "cell_type": "code",
   "execution_count": null,
   "id": "370c62da",
   "metadata": {},
   "outputs": [],
   "source": []
  }
 ],
 "metadata": {
  "kernelspec": {
   "display_name": "PySpark",
   "language": "python",
   "name": "pysparkkernel"
  },
  "language_info": {
   "codemirror_mode": {
    "name": "python",
    "version": 3
   },
   "file_extension": ".py",
   "mimetype": "text/x-python",
   "name": "pyspark",
   "pygments_lexer": "python3"
  }
 },
 "nbformat": 4,
 "nbformat_minor": 5
}